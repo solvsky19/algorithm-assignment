{
  "nbformat": 4,
  "nbformat_minor": 0,
  "metadata": {
    "colab": {
      "provenance": [],
      "authorship_tag": "ABX9TyPIdDEoV2W3qz0uUQVraXq8",
      "include_colab_link": true
    },
    "kernelspec": {
      "name": "python3",
      "display_name": "Python 3"
    },
    "language_info": {
      "name": "python"
    }
  },
  "cells": [
    {
      "cell_type": "markdown",
      "metadata": {
        "id": "view-in-github",
        "colab_type": "text"
      },
      "source": [
        "<a href=\"https://colab.research.google.com/github/solvsky19/algorithm-assignment/blob/main/utsNLP.ipynb\" target=\"_parent\"><img src=\"https://colab.research.google.com/assets/colab-badge.svg\" alt=\"Open In Colab\"/></a>"
      ]
    },
    {
      "cell_type": "code",
      "source": [
        "from googletrans import Translator\n",
        "\n",
        "def translate_text(text, target_language='en'):\n",
        "    translator = Translator()\n",
        "    translation = translator.translate(text, dest=target_language)\n",
        "    return translation.text\n",
        "\n",
        "if __name__ == \"__main__\":\n",
        "    print(\"Translate Kalimat\")\n",
        "    input_text = input(\"Silahkan input kalimat = \")\n",
        "\n",
        "    print(\"Pilih translate:\")\n",
        "    print(\"a. Bahasa Inggris\")\n",
        "    print(\"b. Bahasa Perancis\")\n",
        "    print(\"c. Bahasa Spanyol\")\n",
        "\n",
        "    choice = input(\"Pilih jenis bahasa = \").lower()\n",
        "\n",
        "    if choice == 'a':\n",
        "        target_language = 'en'\n",
        "    elif choice == 'b':\n",
        "        target_language = 'fr'\n",
        "    elif choice == 'c':\n",
        "        target_language = 'es'\n",
        "    else:\n",
        "        print(\"Pilihan bahasa tidak valid.\")\n",
        "        exit()\n",
        "\n",
        "    translated_text = translate_text(input_text, target_language)\n",
        "\n",
        "    print(\"\\nHasil translate:\")\n",
        "    print(f\"Teks Asli: {input_text}\")\n",
        "    print(f\"Teks Terjemahan: {translated_text}\")\n"
      ],
      "metadata": {
        "colab": {
          "base_uri": "https://localhost:8080/"
        },
        "id": "SCvVXjcosHEk",
        "outputId": "0e20d71c-f80c-4eec-c92f-04f92bb12b73"
      },
      "execution_count": 17,
      "outputs": [
        {
          "output_type": "stream",
          "name": "stdout",
          "text": [
            "Translate Kalimat\n",
            "Silahkan input kalimat = ayo pulang\n",
            "Pilih translate:\n",
            "a. Bahasa Inggris\n",
            "b. Bahasa Perancis\n",
            "c. Bahasa Spanyol\n",
            "Pilih jenis bahasa = b\n",
            "\n",
            "Hasil translate:\n",
            "Teks Asli: ayo pulang\n",
            "Teks Terjemahan: Laissez-nous rentrer à la maison\n"
          ]
        }
      ]
    }
  ]
}